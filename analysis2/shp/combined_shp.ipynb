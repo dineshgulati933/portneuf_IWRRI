{
 "cells": [
  {
   "cell_type": "code",
   "execution_count": 1,
   "id": "1a665406",
   "metadata": {},
   "outputs": [],
   "source": [
    "import pandas as pd\n",
    "import geopandas as gpd\n",
    "from shapely.ops import unary_union"
   ]
  },
  {
   "cell_type": "code",
   "execution_count": 2,
   "id": "c3ecd6a0",
   "metadata": {},
   "outputs": [
    {
     "name": "stdout",
     "output_type": "stream",
     "text": [
      "c:\\Users\\dines\\anaconda3\\envs\\soilwater_env\\Lib\\site-packages\\pandas\\__init__.py\n"
     ]
    }
   ],
   "source": [
    "import pandas\n",
    "print(pandas.__file__)\n"
   ]
  },
  {
   "cell_type": "code",
   "execution_count": 3,
   "id": "7e9b53eb",
   "metadata": {},
   "outputs": [
    {
     "name": "stdout",
     "output_type": "stream",
     "text": [
      "['c:\\\\Users\\\\dines\\\\anaconda3\\\\envs\\\\soilwater_env\\\\Lib\\\\site-packages\\\\pandas']\n"
     ]
    }
   ],
   "source": [
    "import pandas\n",
    "print(pandas.__path__)\n"
   ]
  },
  {
   "cell_type": "code",
   "execution_count": 4,
   "id": "8cd9c713",
   "metadata": {},
   "outputs": [
    {
     "name": "stdout",
     "output_type": "stream",
     "text": [
      "pandas\n",
      "<class 'module'>\n"
     ]
    }
   ],
   "source": [
    "import pandas\n",
    "print(pandas.__package__)\n",
    "print(type(pandas))\n"
   ]
  },
  {
   "cell_type": "code",
   "execution_count": 5,
   "id": "2e6f37f7",
   "metadata": {},
   "outputs": [],
   "source": [
    "import matplotlib.pyplot as plt"
   ]
  },
  {
   "cell_type": "code",
   "execution_count": 6,
   "id": "ff4edbdb",
   "metadata": {},
   "outputs": [],
   "source": [
    "import numpy as np"
   ]
  },
  {
   "cell_type": "code",
   "execution_count": 7,
   "id": "32cc46fa",
   "metadata": {},
   "outputs": [
    {
     "data": {
      "text/plain": [
       "'2.2.3'"
      ]
     },
     "execution_count": 7,
     "metadata": {},
     "output_type": "execute_result"
    }
   ],
   "source": [
    "pd.__version__"
   ]
  },
  {
   "cell_type": "code",
   "execution_count": 66,
   "id": "f25f8e0d",
   "metadata": {},
   "outputs": [],
   "source": [
    "# Load all shapefiles\n",
    "aoi = gpd.read_file(\"cleaned_aoi/cleaned_aoi.shp\")\n",
    "partial1 = gpd.read_file(\"Above_Topaz/Above_Topaz.shp\")\n",
    "partial2 = gpd.read_file(\"Below_Topaz/Below_Topaz.shp\")"
   ]
  },
  {
   "cell_type": "code",
   "execution_count": 67,
   "id": "dfebd654",
   "metadata": {},
   "outputs": [
    {
     "name": "stdout",
     "output_type": "stream",
     "text": [
      "EPSG:4326 EPSG:8826 EPSG:8826\n"
     ]
    }
   ],
   "source": [
    "print(aoi.crs, partial1.crs, partial2.crs)"
   ]
  },
  {
   "cell_type": "code",
   "execution_count": null,
   "id": "72efaba5",
   "metadata": {},
   "outputs": [],
   "source": [
    "# from pynhd import NLDI\n",
    "# from pygeohydro import WBD\n",
    "# import geopandas as gpd\n",
    "\n",
    "# # Fetch HUC-8 boundary using pygeohydro\n",
    "# wbd = WBD()\n",
    "# aoi = wbd.by_huc8(\"17040208\")\n",
    "\n",
    "# aoi.to_file(\"portneuf_aoi_clean.shp\")\n"
   ]
  },
  {
   "cell_type": "code",
   "execution_count": null,
   "id": "95ecfa5f",
   "metadata": {},
   "outputs": [],
   "source": [
    "# from pynhd import NLDI\n",
    "# from pygeohydro import WBD\n",
    "# import geopandas as gpd\n",
    "\n",
    "# # Fetch HUC-8 boundary using pygeohydro\n",
    "# wbd = WBD()\n",
    "# aoi = wbd.by_huc8(\"17040208\")\n",
    "\n",
    "# aoi.to_file(\"portneuf_aoi_clean.shp\")\n"
   ]
  },
  {
   "cell_type": "code",
   "execution_count": 62,
   "id": "a24234e2",
   "metadata": {},
   "outputs": [],
   "source": [
    "# # Match CRS\n",
    "# crs = aoi.crs\n",
    "# partial1 = partial1.to_crs(crs)\n",
    "# partial2 = partial2.to_crs(crs)\n",
    "\n",
    "# # Clean up geometries\n",
    "# for gdf in [partial1, partial2, aoi]:\n",
    "#     cols_to_drop = [col for col in gdf.columns if col not in ['geometry']]\n",
    "#     gdf.drop(columns=cols_to_drop, inplace=True, errors='ignore')\n",
    "\n",
    "\n",
    "# # Merge partial geometries\n",
    "# merged_partial = unary_union(partial1.geometry.union(partial2.geometry))\n",
    "\n",
    "# # Subtract from AOI\n",
    "# aoi_union = unary_union(aoi.geometry)\n",
    "# remaining_geom = aoi_union.difference(merged_partial).buffer(0)\n",
    "# remaining = gpd.GeoDataFrame(geometry=[remaining_geom], crs=crs)\n",
    "\n",
    "# # Add ID and Name to each\n",
    "# partial1_clean = gpd.GeoDataFrame({\n",
    "#     \"ID\": [101],\n",
    "#     \"Name\": [\"Above Topaz\"],\n",
    "#     \"geometry\": [partial1.union_all()]\n",
    "# }, crs=crs)\n",
    "\n",
    "# partial2_clean = gpd.GeoDataFrame({\n",
    "#     \"ID\": [102],\n",
    "#     \"Name\": [\"Below Topaz\"],\n",
    "#     \"geometry\": [partial2.union_all()]\n",
    "# }, crs=crs)\n",
    "\n",
    "# remaining_clean = gpd.GeoDataFrame({\n",
    "#     \"ID\": [103],\n",
    "#     \"Name\": [\"Remaining Area\"],\n",
    "#     \"geometry\": [remaining_geom]\n",
    "# }, crs=crs)\n",
    "\n",
    "# # Combine\n",
    "# final_gdf = pd.concat([partial1_clean, partial2_clean, remaining_clean], ignore_index=True)\n",
    "# final_gdf = gpd.GeoDataFrame(final_gdf, crs=crs)\n"
   ]
  },
  {
   "cell_type": "code",
   "execution_count": 68,
   "id": "bf95672a",
   "metadata": {},
   "outputs": [
    {
     "name": "stderr",
     "output_type": "stream",
     "text": [
      "C:\\Users\\dines\\AppData\\Local\\Temp\\ipykernel_26324\\871230376.py:21: UserWarning: `keep_geom_type=True` in overlay resulted in 5301 dropped geometries of different geometry types than df1 has. Set `keep_geom_type=False` to retain all geometries\n",
      "  remaining = gpd.overlay(remaining, aoi, how='intersection')\n"
     ]
    }
   ],
   "source": [
    "# Match CRS\n",
    "crs = aoi.crs\n",
    "partial1 = partial1.to_crs(crs)\n",
    "partial2 = partial2.to_crs(crs)\n",
    "\n",
    "# Merge partials\n",
    "partial_merged = gpd.GeoDataFrame(\n",
    "    geometry=[partial1.geometry.union_all().union(partial2.geometry.union_all())],\n",
    "    crs=crs\n",
    ")\n",
    "\n",
    "# Clean all geometry\n",
    "aoi['geometry'] = aoi.buffer(0)\n",
    "partial_merged['geometry'] = partial_merged.buffer(0)\n",
    "\n",
    "# Clip AOI to only keep the portion *outside* merged partials\n",
    "remaining = gpd.overlay(aoi, partial_merged, how='difference')\n",
    "remaining['geometry'] = remaining.buffer(0)\n",
    "\n",
    "# Optional: Ensure remaining is completely within AOI\n",
    "remaining = gpd.overlay(remaining, aoi, how='intersection')\n",
    "\n",
    "# Assign fields\n",
    "partial1_clean = gpd.GeoDataFrame({\n",
    "    \"ID\": [101],\n",
    "    \"Name\": [\"Partial Area 1\"],\n",
    "    \"geometry\": [partial1.geometry.union_all()]\n",
    "}, crs=crs)\n",
    "\n",
    "partial2_clean = gpd.GeoDataFrame({\n",
    "    \"ID\": [102],\n",
    "    \"Name\": [\"Partial Area 2\"],\n",
    "    \"geometry\": [partial2.geometry.union_all()]\n",
    "}, crs=crs)\n",
    "\n",
    "remaining[\"ID\"] = 103\n",
    "remaining[\"Name\"] = \"Remaining AOI\"\n",
    "\n",
    "# Final merge\n",
    "final_gdf = pd.concat([partial1_clean, partial2_clean, remaining], ignore_index=True)\n",
    "final_gdf = gpd.GeoDataFrame(final_gdf, crs=crs)\n"
   ]
  },
  {
   "cell_type": "code",
   "execution_count": 69,
   "id": "9a9ea2e2",
   "metadata": {},
   "outputs": [
    {
     "data": {
      "image/png": "[encoded data removed]",
      "text/plain": [
       "<Figure size 640x480 with 1 Axes>"
      ]
     },
     "metadata": {},
     "output_type": "display_data"
    }
   ],
   "source": [
    "import matplotlib.pyplot as plt\n",
    "\n",
    "fig, ax = plt.subplots()\n",
    "final_gdf[final_gdf[\"Name\"] == \"Partial Area 1\"].boundary.plot(ax=ax, color='red', label='Partial 1')\n",
    "final_gdf[final_gdf[\"Name\"] == \"Partial Area 2\"].boundary.plot(ax=ax, color='blue', label='Partial 2')\n",
    "final_gdf[final_gdf[\"Name\"] == \"Remaining AOI\"].boundary.plot(ax=ax, color='green', label='Remaining AOI')\n",
    "plt.legend()\n",
    "plt.title(\"Clean Final AOI Partition\")\n",
    "plt.show()\n"
   ]
  },
  {
   "cell_type": "code",
   "execution_count": 53,
   "id": "d035f3d3",
   "metadata": {},
   "outputs": [
    {
     "data": {
      "text/html": [
       "<div>\n",
       "<style scoped>\n",
       "    .dataframe tbody tr th:only-of-type {\n",
       "        vertical-align: middle;\n",
       "    }\n",
       "\n",
       "    .dataframe tbody tr th {\n",
       "        vertical-align: top;\n",
       "    }\n",
       "\n",
       "    .dataframe thead th {\n",
       "        text-align: right;\n",
       "    }\n",
       "</style>\n",
       "<table border=\"1\" class=\"dataframe\">\n",
       "  <thead>\n",
       "    <tr style=\"text-align: right;\">\n",
       "      <th></th>\n",
       "      <th>geometry</th>\n",
       "    </tr>\n",
       "  </thead>\n",
       "  <tbody>\n",
       "    <tr>\n",
       "      <th>0</th>\n",
       "      <td>MULTIPOLYGON (((-112.07294 42.54489, -112.0729...</td>\n",
       "    </tr>\n",
       "  </tbody>\n",
       "</table>\n",
       "</div>"
      ],
      "text/plain": [
       "                                            geometry\n",
       "0  MULTIPOLYGON (((-112.07294 42.54489, -112.0729..."
      ]
     },
     "execution_count": 53,
     "metadata": {},
     "output_type": "execute_result"
    }
   ],
   "source": [
    "partial1"
   ]
  },
  {
   "cell_type": "code",
   "execution_count": 71,
   "id": "d53a0c63",
   "metadata": {},
   "outputs": [
    {
     "data": {
      "text/html": [
       "<div>\n",
       "<style scoped>\n",
       "    .dataframe tbody tr th:only-of-type {\n",
       "        vertical-align: middle;\n",
       "    }\n",
       "\n",
       "    .dataframe tbody tr th {\n",
       "        vertical-align: top;\n",
       "    }\n",
       "\n",
       "    .dataframe thead th {\n",
       "        text-align: right;\n",
       "    }\n",
       "</style>\n",
       "<table border=\"1\" class=\"dataframe\">\n",
       "  <thead>\n",
       "    <tr style=\"text-align: right;\">\n",
       "      <th></th>\n",
       "      <th>ID</th>\n",
       "      <th>Name</th>\n",
       "      <th>geometry</th>\n",
       "      <th>sourcedata_1</th>\n",
       "      <th>areaacres_1</th>\n",
       "      <th>sourcefeat_1</th>\n",
       "      <th>shape_leng_1</th>\n",
       "      <th>states_1</th>\n",
       "      <th>sourceorig_1</th>\n",
       "      <th>huc8_1</th>\n",
       "      <th>...</th>\n",
       "      <th>huc8_2</th>\n",
       "      <th>areasqkm_2</th>\n",
       "      <th>name_2</th>\n",
       "      <th>tnmid_2</th>\n",
       "      <th>metasource_2</th>\n",
       "      <th>loaddate_2</th>\n",
       "      <th>gnis_id_2</th>\n",
       "      <th>ORIG_FID_2</th>\n",
       "      <th>Shape_Le_1_2</th>\n",
       "      <th>Shape_Area_2</th>\n",
       "    </tr>\n",
       "  </thead>\n",
       "  <tbody>\n",
       "    <tr>\n",
       "      <th>0</th>\n",
       "      <td>101</td>\n",
       "      <td>Partial Area 1</td>\n",
       "      <td>MULTIPOLYGON (((-112.07306 42.54489, -112.0729...</td>\n",
       "      <td>NaN</td>\n",
       "      <td>NaN</td>\n",
       "      <td>NaN</td>\n",
       "      <td>NaN</td>\n",
       "      <td>NaN</td>\n",
       "      <td>NaN</td>\n",
       "      <td>NaN</td>\n",
       "      <td>...</td>\n",
       "      <td>NaN</td>\n",
       "      <td>NaN</td>\n",
       "      <td>NaN</td>\n",
       "      <td>NaN</td>\n",
       "      <td>NaN</td>\n",
       "      <td>NaN</td>\n",
       "      <td>NaN</td>\n",
       "      <td>NaN</td>\n",
       "      <td>NaN</td>\n",
       "      <td>NaN</td>\n",
       "    </tr>\n",
       "    <tr>\n",
       "      <th>1</th>\n",
       "      <td>102</td>\n",
       "      <td>Partial Area 2</td>\n",
       "      <td>POLYGON ((-111.97984 42.4761, -111.97977 42.47...</td>\n",
       "      <td>NaN</td>\n",
       "      <td>NaN</td>\n",
       "      <td>NaN</td>\n",
       "      <td>NaN</td>\n",
       "      <td>NaN</td>\n",
       "      <td>NaN</td>\n",
       "      <td>NaN</td>\n",
       "      <td>...</td>\n",
       "      <td>NaN</td>\n",
       "      <td>NaN</td>\n",
       "      <td>NaN</td>\n",
       "      <td>NaN</td>\n",
       "      <td>NaN</td>\n",
       "      <td>NaN</td>\n",
       "      <td>NaN</td>\n",
       "      <td>NaN</td>\n",
       "      <td>NaN</td>\n",
       "      <td>NaN</td>\n",
       "    </tr>\n",
       "    <tr>\n",
       "      <th>2</th>\n",
       "      <td>103</td>\n",
       "      <td>Remaining AOI</td>\n",
       "      <td>MULTIPOLYGON (((-112.10683 42.26886, -112.1069...</td>\n",
       "      <td>None</td>\n",
       "      <td>1073424.78</td>\n",
       "      <td>None</td>\n",
       "      <td>4.579966477994</td>\n",
       "      <td>ID</td>\n",
       "      <td>None</td>\n",
       "      <td>17040208</td>\n",
       "      <td>...</td>\n",
       "      <td>17040208</td>\n",
       "      <td>4344</td>\n",
       "      <td>Portneuf</td>\n",
       "      <td>{38B3506D-036C-4780-8737-BB63CA45917A}</td>\n",
       "      <td>None</td>\n",
       "      <td>20130118135515</td>\n",
       "      <td>None</td>\n",
       "      <td>0.0</td>\n",
       "      <td>4.579968</td>\n",
       "      <td>0.477747</td>\n",
       "    </tr>\n",
       "  </tbody>\n",
       "</table>\n",
       "<p>3 rows × 35 columns</p>\n",
       "</div>"
      ],
      "text/plain": [
       "    ID            Name                                           geometry  \\\n",
       "0  101  Partial Area 1  MULTIPOLYGON (((-112.07306 42.54489, -112.0729...   \n",
       "1  102  Partial Area 2  POLYGON ((-111.97984 42.4761, -111.97977 42.47...   \n",
       "2  103   Remaining AOI  MULTIPOLYGON (((-112.10683 42.26886, -112.1069...   \n",
       "\n",
       "  sourcedata_1 areaacres_1 sourcefeat_1    shape_leng_1 states_1 sourceorig_1  \\\n",
       "0          NaN         NaN          NaN             NaN      NaN          NaN   \n",
       "1          NaN         NaN          NaN             NaN      NaN          NaN   \n",
       "2         None  1073424.78         None  4.579966477994       ID         None   \n",
       "\n",
       "     huc8_1  ...    huc8_2 areasqkm_2    name_2  \\\n",
       "0       NaN  ...       NaN        NaN       NaN   \n",
       "1       NaN  ...       NaN        NaN       NaN   \n",
       "2  17040208  ...  17040208       4344  Portneuf   \n",
       "\n",
       "                                  tnmid_2 metasource_2      loaddate_2  \\\n",
       "0                                     NaN          NaN             NaN   \n",
       "1                                     NaN          NaN             NaN   \n",
       "2  {38B3506D-036C-4780-8737-BB63CA45917A}         None  20130118135515   \n",
       "\n",
       "   gnis_id_2  ORIG_FID_2  Shape_Le_1_2 Shape_Area_2  \n",
       "0        NaN         NaN           NaN          NaN  \n",
       "1        NaN         NaN           NaN          NaN  \n",
       "2       None         0.0      4.579968     0.477747  \n",
       "\n",
       "[3 rows x 35 columns]"
      ]
     },
     "execution_count": 71,
     "metadata": {},
     "output_type": "execute_result"
    }
   ],
   "source": [
    "final_gdf"
   ]
  },
  {
   "cell_type": "code",
   "execution_count": 70,
   "id": "729b2856",
   "metadata": {},
   "outputs": [
    {
     "data": {
      "text/plain": [
       "<Axes: >"
      ]
     },
     "execution_count": 70,
     "metadata": {},
     "output_type": "execute_result"
    },
    {
     "data": {
      "image/png": "[encoded data removed]",
      "text/plain": [
       "<Figure size 640x480 with 1 Axes>"
      ]
     },
     "metadata": {},
     "output_type": "display_data"
    }
   ],
   "source": [
    "remaining.plot()"
   ]
  },
  {
   "cell_type": "code",
   "execution_count": 57,
   "id": "ede5da3d",
   "metadata": {},
   "outputs": [
    {
     "name": "stdout",
     "output_type": "stream",
     "text": [
      "True True True\n"
     ]
    }
   ],
   "source": [
    "print(partial1.is_valid.all(), partial2.is_valid.all(), aoi.is_valid.all())\n"
   ]
  },
  {
   "cell_type": "code",
   "execution_count": 56,
   "id": "25102145",
   "metadata": {},
   "outputs": [],
   "source": [
    "# Save to a new shapefile\n",
    "final_gdf.to_file(\"portneuf_3aoi/portneuf_3aoi.shp\")"
   ]
  },
  {
   "cell_type": "code",
   "execution_count": 58,
   "id": "459836c8",
   "metadata": {},
   "outputs": [
    {
     "data": {
      "image/png": "[encoded data removed]",
      "text/plain": [
       "<Figure size 640x480 with 1 Axes>"
      ]
     },
     "metadata": {},
     "output_type": "display_data"
    }
   ],
   "source": [
    "fig, ax = plt.subplots()\n",
    "aoi.boundary.plot(ax=ax, color='black')\n",
    "partial1.boundary.plot(ax=ax, color='red')\n",
    "partial2.boundary.plot(ax=ax, color='blue')\n",
    "remaining.boundary.plot(ax=ax, color='green')\n",
    "plt.show()\n"
   ]
  },
  {
   "cell_type": "code",
   "execution_count": 75,
   "id": "38fc456d",
   "metadata": {},
   "outputs": [
    {
     "data": {
      "text/plain": [
       "'2.1.4'"
      ]
     },
     "execution_count": 75,
     "metadata": {},
     "output_type": "execute_result"
    }
   ],
   "source": [
    "pd.__version__"
   ]
  },
  {
   "cell_type": "code",
   "execution_count": null,
   "id": "ce3b8e64",
   "metadata": {},
   "outputs": [],
   "source": []
  }
 ],
 "metadata": {
  "kernelspec": {
   "display_name": "soilwater_env",
   "language": "python",
   "name": "python3"
  },
  "language_info": {
   "codemirror_mode": {
    "name": "ipython",
    "version": 3
   },
   "file_extension": ".py",
   "mimetype": "text/x-python",
   "name": "python",
   "nbconvert_exporter": "python",
   "pygments_lexer": "ipython3",
   "version": "3.13.5"
  }
 },
 "nbformat": 4,
 "nbformat_minor": 5
}
