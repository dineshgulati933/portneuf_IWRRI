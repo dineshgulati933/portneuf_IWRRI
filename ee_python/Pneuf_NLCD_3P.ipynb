{
  "nbformat": 4,
  "nbformat_minor": 0,
  "metadata": {
    "colab": {
      "provenance": [],
      "authorship_tag": "ABX9TyMErdZMsKf4LrgM3DZQgBfE",
      "include_colab_link": true
    },
    "kernelspec": {
      "name": "python3",
      "display_name": "Python 3"
    },
    "language_info": {
      "name": "python"
    }
  },
  "cells": [
    {
      "cell_type": "markdown",
      "metadata": {
        "id": "view-in-github",
        "colab_type": "text"
      },
      "source": [
        "<a href=\"https://colab.research.google.com/github/dineshgulati933/portneuf_IWRRI/blob/main/ee_python/Pneuf_NLCD_3P.ipynb\" target=\"_parent\"><img src=\"https://colab.research.google.com/assets/colab-badge.svg\" alt=\"Open In Colab\"/></a>"
      ]
    },
    {
      "cell_type": "code",
      "source": [
        "# ============================================================\n",
        "#  Python Script: Pneuf_NLCD_3P.ipynb\n",
        "#  Author        : Dinesh Gulati\n",
        "#  Description   : NLCD LC for three sub-watersheds.\n",
        "# ============================================================"
      ],
      "metadata": {
        "id": "c6DCQFrH36J_"
      },
      "execution_count": null,
      "outputs": []
    },
    {
      "cell_type": "code",
      "source": [
        "#Code modified to extract NLCD LC for three features within Portneuf"
      ],
      "metadata": {
        "id": "-KCNfPbFHwR-"
      },
      "execution_count": null,
      "outputs": []
    },
    {
      "cell_type": "code",
      "execution_count": null,
      "metadata": {
        "id": "o7ciq5yYGAfU"
      },
      "outputs": [],
      "source": [
        "import ee"
      ]
    },
    {
      "cell_type": "code",
      "source": [
        "# Authenticate and initialize Earth Engine\n",
        "ee.Authenticate()\n",
        "ee.Initialize(project = 'ee-dineshgulati333')"
      ],
      "metadata": {
        "id": "KzpUKaprGIZM"
      },
      "execution_count": null,
      "outputs": []
    },
    {
      "cell_type": "code",
      "source": [
        "aoi = ee.FeatureCollection(\"projects/ee-dineshgulati333/assets/portneuf3_clean\")\n",
        "aoi_bounds = aoi.geometry().bounds()"
      ],
      "metadata": {
        "id": "WsKTAsmSGKXY"
      },
      "execution_count": null,
      "outputs": []
    },
    {
      "cell_type": "code",
      "source": [
        "years = range(2000, 2025)\n",
        "\n",
        "tasks = []\n",
        "\n",
        "for year in years:\n",
        "    start_date = f'{year}-01-01'\n",
        "    end_date = f'{year}-12-31'\n",
        "\n",
        "    dataset = ee.ImageCollection('projects/sat-io/open-datasets/USGS/ANNUAL_NLCD/LANDCOVER')\\\n",
        "        .filterDate(start_date, end_date)\\\n",
        "        .filterBounds(aoi_bounds)\\\n",
        "        .first()\\\n",
        "        .set('Year', year)\n",
        "\n",
        "    cdl_stats = dataset.reduceRegions(\n",
        "        collection=aoi,\n",
        "        reducer=ee.Reducer.frequencyHistogram(),\n",
        "        scale=dataset.projection().nominalScale()\n",
        "    ).map(lambda f: f.set('Year', dataset.get('Year')))\n",
        "\n",
        "    # Create export task\n",
        "    task = ee.batch.Export.table.toDrive(\n",
        "        collection=cdl_stats,\n",
        "        description=f'NLCD_pixel_counts_3P_{year}',\n",
        "        fileFormat='CSV',\n",
        "        folder = 'Pneuf_NLCD_3P',\n",
        "        selectors=['Year', 'UID', 'histogram']\n",
        "    )\n",
        "\n",
        "    task.start()\n",
        "    tasks.append(task)\n",
        "\n",
        "    print(f'Export started for year {year}')\n"
      ],
      "metadata": {
        "colab": {
          "base_uri": "https://localhost:8080/"
        },
        "id": "xAdwno7LGXxn",
        "outputId": "fa13348e-f4aa-4794-8a24-4aa849a6494b"
      },
      "execution_count": null,
      "outputs": [
        {
          "output_type": "stream",
          "name": "stdout",
          "text": [
            "Export started for year 2000\n",
            "Export started for year 2001\n",
            "Export started for year 2002\n",
            "Export started for year 2003\n",
            "Export started for year 2004\n",
            "Export started for year 2005\n",
            "Export started for year 2006\n",
            "Export started for year 2007\n",
            "Export started for year 2008\n",
            "Export started for year 2009\n",
            "Export started for year 2010\n",
            "Export started for year 2011\n",
            "Export started for year 2012\n",
            "Export started for year 2013\n",
            "Export started for year 2014\n",
            "Export started for year 2015\n",
            "Export started for year 2016\n",
            "Export started for year 2017\n",
            "Export started for year 2018\n",
            "Export started for year 2019\n",
            "Export started for year 2020\n",
            "Export started for year 2021\n",
            "Export started for year 2022\n",
            "Export started for year 2023\n",
            "Export started for year 2024\n"
          ]
        }
      ]
    }
  ]
}