{
  "nbformat": 4,
  "nbformat_minor": 0,
  "metadata": {
    "colab": {
      "provenance": [],
      "authorship_tag": "ABX9TyM3QUEVsUKUj2KPXKEu/H9f",
      "include_colab_link": true
    },
    "kernelspec": {
      "name": "python3",
      "display_name": "Python 3"
    },
    "language_info": {
      "name": "python"
    }
  },
  "cells": [
    {
      "cell_type": "markdown",
      "metadata": {
        "id": "view-in-github",
        "colab_type": "text"
      },
      "source": [
        "<a href=\"https://colab.research.google.com/github/dineshgulati933/portneuf_IWRRI/blob/main/ee_python/Pneuf_OpenET_3p_mask.ipynb\" target=\"_parent\"><img src=\"https://colab.research.google.com/assets/colab-badge.svg\" alt=\"Open In Colab\"/></a>"
      ]
    },
    {
      "cell_type": "code",
      "source": [
        "# ============================================================\n",
        "#  Python Script: Pneuf_OpenET_3p_mask.ipynb\n",
        "#  Author        : Dinesh Gulati\n",
        "#  Description   : OpenET Data with cropland mask.\n",
        "# ============================================================"
      ],
      "metadata": {
        "id": "WZmikiQo2oVf"
      },
      "execution_count": null,
      "outputs": []
    },
    {
      "cell_type": "code",
      "source": [
        "#5/5/25: This script to fetch all OpenET models including ensemble for multiple years. It will apply reducer to each HUC12 feature\n",
        "#to calculate mean, 25th, median, 75th in the region.\n",
        "#The resulted csv for each year will be saved in drive which needs to be processed further to find WY totals or other operations.\n",
        "#7/22/25: Modified for cultivated and non-cultivated scenarios based on NLCD 2005 LC mask and Portneuf with three sub watersheds"
      ],
      "metadata": {
        "id": "gX_5V_QvIT1p",
        "colab": {
          "base_uri": "https://localhost:8080/",
          "height": 17
        },
        "outputId": "6bf428bd-352a-437f-e663-7b1252afc3ec"
      },
      "execution_count": null,
      "outputs": [
        {
          "output_type": "display_data",
          "data": {
            "text/plain": [
              "<IPython.core.display.HTML object>"
            ],
            "text/html": [
              "\n",
              "            <style>\n",
              "                .geemap-dark {\n",
              "                    --jp-widgets-color: white;\n",
              "                    --jp-widgets-label-color: white;\n",
              "                    --jp-ui-font-color1: white;\n",
              "                    --jp-layout-color2: #454545;\n",
              "                    background-color: #383838;\n",
              "                }\n",
              "\n",
              "                .geemap-dark .jupyter-button {\n",
              "                    --jp-layout-color3: #383838;\n",
              "                }\n",
              "\n",
              "                .geemap-colab {\n",
              "                    background-color: var(--colab-primary-surface-color, white);\n",
              "                }\n",
              "\n",
              "                .geemap-colab .jupyter-button {\n",
              "                    --jp-layout-color3: var(--colab-primary-surface-color, white);\n",
              "                }\n",
              "            </style>\n",
              "            "
            ]
          },
          "metadata": {}
        }
      ]
    },
    {
      "cell_type": "code",
      "source": [
        "import ee\n",
        "import geemap"
      ],
      "metadata": {
        "id": "kom2UKl2QGDe",
        "colab": {
          "base_uri": "https://localhost:8080/",
          "height": 17
        },
        "outputId": "d5a8eb39-b69b-4776-ee78-b368a0d22a27"
      },
      "execution_count": null,
      "outputs": [
        {
          "output_type": "display_data",
          "data": {
            "text/plain": [
              "<IPython.core.display.HTML object>"
            ],
            "text/html": [
              "\n",
              "            <style>\n",
              "                .geemap-dark {\n",
              "                    --jp-widgets-color: white;\n",
              "                    --jp-widgets-label-color: white;\n",
              "                    --jp-ui-font-color1: white;\n",
              "                    --jp-layout-color2: #454545;\n",
              "                    background-color: #383838;\n",
              "                }\n",
              "\n",
              "                .geemap-dark .jupyter-button {\n",
              "                    --jp-layout-color3: #383838;\n",
              "                }\n",
              "\n",
              "                .geemap-colab {\n",
              "                    background-color: var(--colab-primary-surface-color, white);\n",
              "                }\n",
              "\n",
              "                .geemap-colab .jupyter-button {\n",
              "                    --jp-layout-color3: var(--colab-primary-surface-color, white);\n",
              "                }\n",
              "            </style>\n",
              "            "
            ]
          },
          "metadata": {}
        }
      ]
    },
    {
      "cell_type": "code",
      "source": [
        "# Authenticate and initialize Earth Engine\n",
        "ee.Authenticate()\n",
        "ee.Initialize(project = 'ee-dineshgulati333')"
      ],
      "metadata": {
        "id": "srqUkqSyQCy6",
        "colab": {
          "base_uri": "https://localhost:8080/",
          "height": 17
        },
        "outputId": "cecab06b-0edf-4645-a5c3-146be3e53ca7"
      },
      "execution_count": null,
      "outputs": [
        {
          "output_type": "display_data",
          "data": {
            "text/plain": [
              "<IPython.core.display.HTML object>"
            ],
            "text/html": [
              "\n",
              "            <style>\n",
              "                .geemap-dark {\n",
              "                    --jp-widgets-color: white;\n",
              "                    --jp-widgets-label-color: white;\n",
              "                    --jp-ui-font-color1: white;\n",
              "                    --jp-layout-color2: #454545;\n",
              "                    background-color: #383838;\n",
              "                }\n",
              "\n",
              "                .geemap-dark .jupyter-button {\n",
              "                    --jp-layout-color3: #383838;\n",
              "                }\n",
              "\n",
              "                .geemap-colab {\n",
              "                    background-color: var(--colab-primary-surface-color, white);\n",
              "                }\n",
              "\n",
              "                .geemap-colab .jupyter-button {\n",
              "                    --jp-layout-color3: var(--colab-primary-surface-color, white);\n",
              "                }\n",
              "            </style>\n",
              "            "
            ]
          },
          "metadata": {}
        }
      ]
    },
    {
      "cell_type": "code",
      "source": [
        "# Define model collections (only 'et' band selected)\n",
        "models = {\n",
        "    'ensb': ee.ImageCollection(\"OpenET/ENSEMBLE/CONUS/GRIDMET/MONTHLY/v2_0\").select('et_ensemble_mad'),\n",
        "    'sebal': ee.ImageCollection(\"OpenET/GEESEBAL/CONUS/GRIDMET/MONTHLY/v2_0\").select('et'),\n",
        "    'sims': ee.ImageCollection(\"OpenET/SIMS/CONUS/GRIDMET/MONTHLY/v2_0\").select('et'),\n",
        "    'ptjpl': ee.ImageCollection(\"OpenET/PTJPL/CONUS/GRIDMET/MONTHLY/v2_0\").select('et'),\n",
        "    'alexi': ee.ImageCollection(\"OpenET/DISALEXI/CONUS/GRIDMET/MONTHLY/v2_0\").select('et'),\n",
        "    'sseb': ee.ImageCollection(\"OpenET/SSEBOP/CONUS/GRIDMET/MONTHLY/v2_0\").select('et'),\n",
        "    'metric': ee.ImageCollection(\"OpenET/EEMETRIC/CONUS/GRIDMET/MONTHLY/v2_0\").select('et')\n",
        "}"
      ],
      "metadata": {
        "id": "XHgA3wWzmSrb",
        "colab": {
          "base_uri": "https://localhost:8080/",
          "height": 17
        },
        "outputId": "252497fd-03f3-45fe-d662-b77e63ee7ab8"
      },
      "execution_count": null,
      "outputs": [
        {
          "output_type": "display_data",
          "data": {
            "text/plain": [
              "<IPython.core.display.HTML object>"
            ],
            "text/html": [
              "\n",
              "            <style>\n",
              "                .geemap-dark {\n",
              "                    --jp-widgets-color: white;\n",
              "                    --jp-widgets-label-color: white;\n",
              "                    --jp-ui-font-color1: white;\n",
              "                    --jp-layout-color2: #454545;\n",
              "                    background-color: #383838;\n",
              "                }\n",
              "\n",
              "                .geemap-dark .jupyter-button {\n",
              "                    --jp-layout-color3: #383838;\n",
              "                }\n",
              "\n",
              "                .geemap-colab {\n",
              "                    background-color: var(--colab-primary-surface-color, white);\n",
              "                }\n",
              "\n",
              "                .geemap-colab .jupyter-button {\n",
              "                    --jp-layout-color3: var(--colab-primary-surface-color, white);\n",
              "                }\n",
              "            </style>\n",
              "            "
            ]
          },
          "metadata": {}
        }
      ]
    },
    {
      "cell_type": "code",
      "source": [
        "# Band rename dictionary\n",
        "bandNamesDict = {\n",
        "    'ensb': 'et_ensb',\n",
        "    'sebal': 'et_sebal',\n",
        "    'sims': 'et_sims',\n",
        "    'ptjpl': 'et_ptjpl',\n",
        "    'alexi': 'et_alexi',\n",
        "    'sseb': 'et_sseb',\n",
        "    'metric': 'et_metric'\n",
        "}"
      ],
      "metadata": {
        "id": "_Ryo1ZAIpR2h",
        "colab": {
          "base_uri": "https://localhost:8080/",
          "height": 17
        },
        "outputId": "775d4d21-f50e-4e6c-c033-01d92a98dc8f"
      },
      "execution_count": null,
      "outputs": [
        {
          "output_type": "display_data",
          "data": {
            "text/plain": [
              "<IPython.core.display.HTML object>"
            ],
            "text/html": [
              "\n",
              "            <style>\n",
              "                .geemap-dark {\n",
              "                    --jp-widgets-color: white;\n",
              "                    --jp-widgets-label-color: white;\n",
              "                    --jp-ui-font-color1: white;\n",
              "                    --jp-layout-color2: #454545;\n",
              "                    background-color: #383838;\n",
              "                }\n",
              "\n",
              "                .geemap-dark .jupyter-button {\n",
              "                    --jp-layout-color3: #383838;\n",
              "                }\n",
              "\n",
              "                .geemap-colab {\n",
              "                    background-color: var(--colab-primary-surface-color, white);\n",
              "                }\n",
              "\n",
              "                .geemap-colab .jupyter-button {\n",
              "                    --jp-layout-color3: var(--colab-primary-surface-color, white);\n",
              "                }\n",
              "            </style>\n",
              "            "
            ]
          },
          "metadata": {}
        }
      ]
    },
    {
      "cell_type": "code",
      "source": [
        "#NCLD mask\n",
        "nlcd = ee.ImageCollection('projects/sat-io/open-datasets/USGS/ANNUAL_NLCD/LANDCOVER') \\\n",
        "                            .filter(ee.Filter.date('2005-01-01', '2005-01-31')).first()\n",
        "\n",
        "crop_mask = nlcd.eq(82).Or(nlcd.eq(81))\n",
        "non_crop_mask = nlcd.neq(82).Or(nlcd.eq(81))"
      ],
      "metadata": {
        "colab": {
          "base_uri": "https://localhost:8080/",
          "height": 17
        },
        "id": "O0GF7I-f7zaN",
        "outputId": "15ef9c5a-3f23-4997-e8fc-3e6fc54cf33c"
      },
      "execution_count": null,
      "outputs": [
        {
          "output_type": "display_data",
          "data": {
            "text/plain": [
              "<IPython.core.display.HTML object>"
            ],
            "text/html": [
              "\n",
              "            <style>\n",
              "                .geemap-dark {\n",
              "                    --jp-widgets-color: white;\n",
              "                    --jp-widgets-label-color: white;\n",
              "                    --jp-ui-font-color1: white;\n",
              "                    --jp-layout-color2: #454545;\n",
              "                    background-color: #383838;\n",
              "                }\n",
              "\n",
              "                .geemap-dark .jupyter-button {\n",
              "                    --jp-layout-color3: #383838;\n",
              "                }\n",
              "\n",
              "                .geemap-colab {\n",
              "                    background-color: var(--colab-primary-surface-color, white);\n",
              "                }\n",
              "\n",
              "                .geemap-colab .jupyter-button {\n",
              "                    --jp-layout-color3: var(--colab-primary-surface-color, white);\n",
              "                }\n",
              "            </style>\n",
              "            "
            ]
          },
          "metadata": {}
        }
      ]
    },
    {
      "cell_type": "code",
      "source": [
        "aoi = ee.FeatureCollection(\"projects/ee-dineshgulati333/assets/portneuf3_clean\")\n",
        "aoi_bounds = aoi.geometry().bounds()\n",
        "\n",
        "# Define the range of years and months\n",
        "years = list(range(1999, 2025))  # 1999 to 2024\n",
        "months = list(range(1, 13))  # January to December\n",
        "\n",
        "# Get projection from an ET image to preserve scale\n",
        "sample_projection = models['ensb'].first().projection()"
      ],
      "metadata": {
        "id": "ua6NMpD4RcDc",
        "colab": {
          "base_uri": "https://localhost:8080/",
          "height": 17
        },
        "outputId": "0e660792-796a-4e40-cc36-b4d721057ee4"
      },
      "execution_count": null,
      "outputs": [
        {
          "output_type": "display_data",
          "data": {
            "text/plain": [
              "<IPython.core.display.HTML object>"
            ],
            "text/html": [
              "\n",
              "            <style>\n",
              "                .geemap-dark {\n",
              "                    --jp-widgets-color: white;\n",
              "                    --jp-widgets-label-color: white;\n",
              "                    --jp-ui-font-color1: white;\n",
              "                    --jp-layout-color2: #454545;\n",
              "                    background-color: #383838;\n",
              "                }\n",
              "\n",
              "                .geemap-dark .jupyter-button {\n",
              "                    --jp-layout-color3: #383838;\n",
              "                }\n",
              "\n",
              "                .geemap-colab {\n",
              "                    background-color: var(--colab-primary-surface-color, white);\n",
              "                }\n",
              "\n",
              "                .geemap-colab .jupyter-button {\n",
              "                    --jp-layout-color3: var(--colab-primary-surface-color, white);\n",
              "                }\n",
              "            </style>\n",
              "            "
            ]
          },
          "metadata": {}
        }
      ]
    },
    {
      "cell_type": "code",
      "source": [
        "# Map = geemap.Map()\n",
        "# Map.add_basemap(\"OpenStreetMap\")\n",
        "# Map.addLayer(aoi, {'color':'red'})\n",
        "# Map.centerObject(aoi, 8)\n",
        "# Map.addLayer(crop_mask,)\n",
        "# Map.addLayer(aoi_bounds,)\n",
        "# Map"
      ],
      "metadata": {
        "colab": {
          "base_uri": "https://localhost:8080/",
          "height": 17
        },
        "collapsed": true,
        "id": "Va-yPPG2nlQw",
        "outputId": "7733bc31-bc5c-4b69-f3d2-f7a32de46538"
      },
      "execution_count": null,
      "outputs": [
        {
          "output_type": "display_data",
          "data": {
            "text/plain": [
              "<IPython.core.display.HTML object>"
            ],
            "text/html": [
              "\n",
              "            <style>\n",
              "                .geemap-dark {\n",
              "                    --jp-widgets-color: white;\n",
              "                    --jp-widgets-label-color: white;\n",
              "                    --jp-ui-font-color1: white;\n",
              "                    --jp-layout-color2: #454545;\n",
              "                    background-color: #383838;\n",
              "                }\n",
              "\n",
              "                .geemap-dark .jupyter-button {\n",
              "                    --jp-layout-color3: #383838;\n",
              "                }\n",
              "\n",
              "                .geemap-colab {\n",
              "                    background-color: var(--colab-primary-surface-color, white);\n",
              "                }\n",
              "\n",
              "                .geemap-colab .jupyter-button {\n",
              "                    --jp-layout-color3: var(--colab-primary-surface-color, white);\n",
              "                }\n",
              "            </style>\n",
              "            "
            ]
          },
          "metadata": {}
        }
      ]
    },
    {
      "cell_type": "code",
      "source": [
        "# List to store tasks\n",
        "tasks = []\n",
        "\n",
        "# Outer loop over models\n",
        "for model_name, model_et in models.items():\n",
        "\n",
        "    for year in years:\n",
        "        months_for_year = range(10, 13) if year == 1999 else months\n",
        "        def create_monthly_composite(month):\n",
        "            etm = model_et.filter(ee.Filter.calendarRange(year, year, 'year')) \\\n",
        "                          .filter(ee.Filter.calendarRange(month, month, 'month')) \\\n",
        "                          .filterBounds(aoi_bounds) \\\n",
        "                          .mosaic() \\\n",
        "                          .setDefaultProjection(sample_projection) \\\n",
        "                          .set('system:time_start', ee.Date.fromYMD(year, month, 1).millis()) \\\n",
        "                          .set('Year', year, 'Month', month, 'Date', ee.Date.fromYMD(year, month, 1).format('YYYY-MM-dd'))\n",
        "            etm_crop = etm.updateMask(crop_mask)\n",
        "            etm_non_crop = etm.updateMask(non_crop_mask)\n",
        "            etm = etm_crop.rename('et_crop').addBands(etm_non_crop.rename('et_non_crop'))\n",
        "            return etm\n",
        "\n",
        "        allMonthlyComp = ee.ImageCollection([create_monthly_composite(m) for m in months_for_year])\n",
        "\n",
        "        # Stats function → mean + percentiles only\n",
        "        def Stats(image):\n",
        "            reducer = ee.Reducer.mean() \\\n",
        "                .combine(ee.Reducer.percentile([25, 50, 75], ['25th', '50th', '75th']), sharedInputs=True)\n",
        "\n",
        "            stats = image.reduceRegions(\n",
        "                collection=aoi,\n",
        "                reducer=reducer,\n",
        "                scale=sample_projection.nominalScale() # or image.projection().nominalScale()\n",
        "            )\n",
        "\n",
        "            stats = stats.map(lambda f: f.set('Date', image.get('Date')))\n",
        "            return stats\n",
        "\n",
        "        et_stats = allMonthlyComp.map(Stats).flatten()\n",
        "\n",
        "        # Selectors for export\n",
        "        selectors = ['Date', 'UID', 'et_crop_25th', 'et_crop_50th', 'et_crop_75th', 'et_crop_mean',\n",
        "                     'et_non_crop_25th', 'et_non_crop_50th', 'et_non_crop_75th', 'et_non_crop_mean']\n",
        "        # Define export task\n",
        "        task = ee.batch.Export.table.toDrive(\n",
        "            collection=et_stats,\n",
        "            description=f'OpenET_{model_name}_monthly_stat_{year}',\n",
        "            folder='Pneuf_OpenET_3p_mask',\n",
        "            fileFormat='CSV',\n",
        "            selectors=selectors\n",
        "        )\n",
        "\n",
        "        # Start export\n",
        "        task.start()\n",
        "        tasks.append(task)\n",
        "        print(f\"Export started for {model_name}, {year}\")\n",
        "\n",
        "print(\"\\nAll export tasks have been started in parallel!\")\n"
      ],
      "metadata": {
        "colab": {
          "base_uri": "https://localhost:8080/",
          "height": 1000
        },
        "id": "j36Kmo1cpfhV",
        "outputId": "431ae2bc-bb66-4f70-b386-9af514f43fb4"
      },
      "execution_count": null,
      "outputs": [
        {
          "output_type": "display_data",
          "data": {
            "text/plain": [
              "<IPython.core.display.HTML object>"
            ],
            "text/html": [
              "\n",
              "            <style>\n",
              "                .geemap-dark {\n",
              "                    --jp-widgets-color: white;\n",
              "                    --jp-widgets-label-color: white;\n",
              "                    --jp-ui-font-color1: white;\n",
              "                    --jp-layout-color2: #454545;\n",
              "                    background-color: #383838;\n",
              "                }\n",
              "\n",
              "                .geemap-dark .jupyter-button {\n",
              "                    --jp-layout-color3: #383838;\n",
              "                }\n",
              "\n",
              "                .geemap-colab {\n",
              "                    background-color: var(--colab-primary-surface-color, white);\n",
              "                }\n",
              "\n",
              "                .geemap-colab .jupyter-button {\n",
              "                    --jp-layout-color3: var(--colab-primary-surface-color, white);\n",
              "                }\n",
              "            </style>\n",
              "            "
            ]
          },
          "metadata": {}
        },
        {
          "output_type": "stream",
          "name": "stdout",
          "text": [
            "Export started for ensb, 1999\n",
            "Export started for ensb, 2000\n",
            "Export started for ensb, 2001\n",
            "Export started for ensb, 2002\n",
            "Export started for ensb, 2003\n",
            "Export started for ensb, 2004\n",
            "Export started for ensb, 2005\n",
            "Export started for ensb, 2006\n",
            "Export started for ensb, 2007\n",
            "Export started for ensb, 2008\n",
            "Export started for ensb, 2009\n",
            "Export started for ensb, 2010\n",
            "Export started for ensb, 2011\n",
            "Export started for ensb, 2012\n",
            "Export started for ensb, 2013\n",
            "Export started for ensb, 2014\n",
            "Export started for ensb, 2015\n",
            "Export started for ensb, 2016\n",
            "Export started for ensb, 2017\n",
            "Export started for ensb, 2018\n",
            "Export started for ensb, 2019\n",
            "Export started for ensb, 2020\n",
            "Export started for ensb, 2021\n",
            "Export started for ensb, 2022\n",
            "Export started for ensb, 2023\n",
            "Export started for ensb, 2024\n",
            "Export started for sebal, 1999\n",
            "Export started for sebal, 2000\n",
            "Export started for sebal, 2001\n",
            "Export started for sebal, 2002\n",
            "Export started for sebal, 2003\n",
            "Export started for sebal, 2004\n",
            "Export started for sebal, 2005\n",
            "Export started for sebal, 2006\n",
            "Export started for sebal, 2007\n",
            "Export started for sebal, 2008\n",
            "Export started for sebal, 2009\n",
            "Export started for sebal, 2010\n",
            "Export started for sebal, 2011\n",
            "Export started for sebal, 2012\n",
            "Export started for sebal, 2013\n",
            "Export started for sebal, 2014\n",
            "Export started for sebal, 2015\n",
            "Export started for sebal, 2016\n",
            "Export started for sebal, 2017\n",
            "Export started for sebal, 2018\n",
            "Export started for sebal, 2019\n",
            "Export started for sebal, 2020\n",
            "Export started for sebal, 2021\n",
            "Export started for sebal, 2022\n",
            "Export started for sebal, 2023\n",
            "Export started for sebal, 2024\n",
            "Export started for sims, 1999\n",
            "Export started for sims, 2000\n",
            "Export started for sims, 2001\n",
            "Export started for sims, 2002\n",
            "Export started for sims, 2003\n",
            "Export started for sims, 2004\n",
            "Export started for sims, 2005\n",
            "Export started for sims, 2006\n",
            "Export started for sims, 2007\n",
            "Export started for sims, 2008\n",
            "Export started for sims, 2009\n",
            "Export started for sims, 2010\n",
            "Export started for sims, 2011\n",
            "Export started for sims, 2012\n",
            "Export started for sims, 2013\n",
            "Export started for sims, 2014\n",
            "Export started for sims, 2015\n",
            "Export started for sims, 2016\n",
            "Export started for sims, 2017\n",
            "Export started for sims, 2018\n",
            "Export started for sims, 2019\n",
            "Export started for sims, 2020\n",
            "Export started for sims, 2021\n",
            "Export started for sims, 2022\n",
            "Export started for sims, 2023\n",
            "Export started for sims, 2024\n",
            "Export started for ptjpl, 1999\n",
            "Export started for ptjpl, 2000\n",
            "Export started for ptjpl, 2001\n",
            "Export started for ptjpl, 2002\n",
            "Export started for ptjpl, 2003\n",
            "Export started for ptjpl, 2004\n",
            "Export started for ptjpl, 2005\n",
            "Export started for ptjpl, 2006\n",
            "Export started for ptjpl, 2007\n",
            "Export started for ptjpl, 2008\n",
            "Export started for ptjpl, 2009\n",
            "Export started for ptjpl, 2010\n",
            "Export started for ptjpl, 2011\n",
            "Export started for ptjpl, 2012\n",
            "Export started for ptjpl, 2013\n",
            "Export started for ptjpl, 2014\n",
            "Export started for ptjpl, 2015\n",
            "Export started for ptjpl, 2016\n",
            "Export started for ptjpl, 2017\n",
            "Export started for ptjpl, 2018\n",
            "Export started for ptjpl, 2019\n",
            "Export started for ptjpl, 2020\n",
            "Export started for ptjpl, 2021\n",
            "Export started for ptjpl, 2022\n",
            "Export started for ptjpl, 2023\n",
            "Export started for ptjpl, 2024\n",
            "Export started for alexi, 1999\n",
            "Export started for alexi, 2000\n",
            "Export started for alexi, 2001\n",
            "Export started for alexi, 2002\n",
            "Export started for alexi, 2003\n",
            "Export started for alexi, 2004\n",
            "Export started for alexi, 2005\n",
            "Export started for alexi, 2006\n",
            "Export started for alexi, 2007\n",
            "Export started for alexi, 2008\n",
            "Export started for alexi, 2009\n",
            "Export started for alexi, 2010\n",
            "Export started for alexi, 2011\n",
            "Export started for alexi, 2012\n",
            "Export started for alexi, 2013\n",
            "Export started for alexi, 2014\n",
            "Export started for alexi, 2015\n",
            "Export started for alexi, 2016\n",
            "Export started for alexi, 2017\n",
            "Export started for alexi, 2018\n",
            "Export started for alexi, 2019\n",
            "Export started for alexi, 2020\n",
            "Export started for alexi, 2021\n",
            "Export started for alexi, 2022\n",
            "Export started for alexi, 2023\n",
            "Export started for alexi, 2024\n",
            "Export started for sseb, 1999\n",
            "Export started for sseb, 2000\n",
            "Export started for sseb, 2001\n",
            "Export started for sseb, 2002\n",
            "Export started for sseb, 2003\n",
            "Export started for sseb, 2004\n",
            "Export started for sseb, 2005\n",
            "Export started for sseb, 2006\n",
            "Export started for sseb, 2007\n",
            "Export started for sseb, 2008\n",
            "Export started for sseb, 2009\n",
            "Export started for sseb, 2010\n",
            "Export started for sseb, 2011\n",
            "Export started for sseb, 2012\n",
            "Export started for sseb, 2013\n",
            "Export started for sseb, 2014\n",
            "Export started for sseb, 2015\n",
            "Export started for sseb, 2016\n",
            "Export started for sseb, 2017\n",
            "Export started for sseb, 2018\n",
            "Export started for sseb, 2019\n",
            "Export started for sseb, 2020\n",
            "Export started for sseb, 2021\n",
            "Export started for sseb, 2022\n",
            "Export started for sseb, 2023\n",
            "Export started for sseb, 2024\n",
            "Export started for metric, 1999\n",
            "Export started for metric, 2000\n",
            "Export started for metric, 2001\n",
            "Export started for metric, 2002\n",
            "Export started for metric, 2003\n",
            "Export started for metric, 2004\n",
            "Export started for metric, 2005\n",
            "Export started for metric, 2006\n",
            "Export started for metric, 2007\n",
            "Export started for metric, 2008\n",
            "Export started for metric, 2009\n",
            "Export started for metric, 2010\n",
            "Export started for metric, 2011\n",
            "Export started for metric, 2012\n",
            "Export started for metric, 2013\n",
            "Export started for metric, 2014\n",
            "Export started for metric, 2015\n",
            "Export started for metric, 2016\n",
            "Export started for metric, 2017\n",
            "Export started for metric, 2018\n",
            "Export started for metric, 2019\n",
            "Export started for metric, 2020\n",
            "Export started for metric, 2021\n",
            "Export started for metric, 2022\n",
            "Export started for metric, 2023\n",
            "Export started for metric, 2024\n",
            "\n",
            "All export tasks have been started in parallel!\n"
          ]
        }
      ]
    }
  ]
}