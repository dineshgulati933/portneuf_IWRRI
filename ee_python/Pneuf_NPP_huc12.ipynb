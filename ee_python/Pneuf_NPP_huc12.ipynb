{
  "nbformat": 4,
  "nbformat_minor": 0,
  "metadata": {
    "colab": {
      "provenance": [],
      "authorship_tag": "ABX9TyMsqvw0X90Fv2N4+WJ+C9ZL",
      "include_colab_link": true
    },
    "kernelspec": {
      "name": "python3",
      "display_name": "Python 3"
    },
    "language_info": {
      "name": "python"
    }
  },
  "cells": [
    {
      "cell_type": "markdown",
      "metadata": {
        "id": "view-in-github",
        "colab_type": "text"
      },
      "source": [
        "<a href=\"https://colab.research.google.com/github/dineshgulati933/portneuf_IWRRI/blob/main/ee_python/Pneuf_NPP_huc12.ipynb\" target=\"_parent\"><img src=\"https://colab.research.google.com/assets/colab-badge.svg\" alt=\"Open In Colab\"/></a>"
      ]
    },
    {
      "cell_type": "code",
      "source": [
        "# ============================================================\n",
        "#  Python Script: Pneuf_NPP_huc12.ipynb\n",
        "#  Author        : Dinesh Gulati\n",
        "#  Description   : Landsat NPP for each HUC12.\n",
        "# ============================================================"
      ],
      "metadata": {
        "id": "q9ypUyz11DF8"
      },
      "execution_count": null,
      "outputs": []
    },
    {
      "cell_type": "code",
      "source": [
        "# Extract Landsat based NPP data for each HUC12"
      ],
      "metadata": {
        "id": "9eBrv-LZ1DxQ"
      },
      "execution_count": null,
      "outputs": []
    },
    {
      "cell_type": "code",
      "execution_count": null,
      "metadata": {
        "id": "o7ciq5yYGAfU"
      },
      "outputs": [],
      "source": [
        "import ee"
      ]
    },
    {
      "cell_type": "code",
      "source": [
        "# Authenticate and initialize Earth Engine\n",
        "ee.Authenticate()\n",
        "ee.Initialize(project = 'ee-dineshgulati333')"
      ],
      "metadata": {
        "id": "KzpUKaprGIZM"
      },
      "execution_count": null,
      "outputs": []
    },
    {
      "cell_type": "code",
      "source": [
        "wbd_huc8 = ee.FeatureCollection(\"USGS/WBD/2017/HUC08\")\n",
        "wbd_huc12 = ee.FeatureCollection(\"USGS/WBD/2017/HUC12\")\n",
        "\n",
        "aoi = wbd_huc8.filter(ee.Filter.inList('huc8', ['17040208']))\n",
        "\n",
        "#Filter HUC12 features that are fully contained within the selected aoi\n",
        "huc12_within_aoi = wbd_huc12.filter(ee.Filter.bounds(aoi))\\\n",
        "                                .filter(ee.Filter.contains(leftValue=aoi.geometry(),rightField='.geo'))\n",
        "\n",
        "huc12_bbox = huc12_within_aoi.geometry().bounds()"
      ],
      "metadata": {
        "id": "Eq9xmm3mMYWN"
      },
      "execution_count": null,
      "outputs": []
    },
    {
      "cell_type": "code",
      "source": [
        "dataset = ee.ImageCollection('UMT/NTSG/v2/LANDSAT/NPP') #Landsat"
      ],
      "metadata": {
        "id": "P16q6iUyC7n9"
      },
      "execution_count": null,
      "outputs": []
    },
    {
      "cell_type": "code",
      "source": [
        "def_proj = dataset.first().projection();"
      ],
      "metadata": {
        "id": "jHyX0ZmjDb3U"
      },
      "execution_count": null,
      "outputs": []
    },
    {
      "cell_type": "code",
      "source": [
        "years = range(2000, 2024)\n",
        "\n",
        "tasks = []\n",
        "\n",
        "for year in years:\n",
        "    start_date = f'{year}-01-01'\n",
        "    end_date = f'{year}-12-31'\n",
        "\n",
        "    dataset_yr = dataset.select('annualNPP')\\\n",
        "        .filterDate(start_date, end_date)\\\n",
        "        .filterBounds(huc12_bbox)\\\n",
        "        .set('Year', year)\\\n",
        "        #.set('Date', ee.Date.fromYMD(year,1,1).format('YYYY-MM-dd'))\n",
        "\n",
        "    npp_stats = dataset_yr.first().reduceRegions(\n",
        "        collection=huc12_within_aoi,\n",
        "        reducer=ee.Reducer.mean(),\n",
        "        scale=def_proj.nominalScale()\n",
        "    ).map(lambda f: f.set('Year', dataset_yr.get('Year')))\n",
        "\n",
        "    # Create export task\n",
        "    task = ee.batch.Export.table.toDrive(\n",
        "        collection=npp_stats,\n",
        "        description=f'LS_npp_mean_HUC12_{year}',\n",
        "        fileFormat='CSV',\n",
        "        folder = 'Pneuf_ls_npp',\n",
        "        selectors=['Year', 'huc12', 'mean']\n",
        "    )\n",
        "\n",
        "    task.start()\n",
        "    tasks.append(task)\n",
        "\n",
        "    print(f'Export started for year {year}')\n"
      ],
      "metadata": {
        "colab": {
          "base_uri": "https://localhost:8080/"
        },
        "id": "xAdwno7LGXxn",
        "outputId": "08418819-707c-4059-d95e-d9a45bd0d49e"
      },
      "execution_count": null,
      "outputs": [
        {
          "output_type": "stream",
          "name": "stdout",
          "text": [
            "Export started for year 2000\n",
            "Export started for year 2001\n",
            "Export started for year 2002\n",
            "Export started for year 2003\n",
            "Export started for year 2004\n",
            "Export started for year 2005\n",
            "Export started for year 2006\n",
            "Export started for year 2007\n",
            "Export started for year 2008\n",
            "Export started for year 2009\n",
            "Export started for year 2010\n",
            "Export started for year 2011\n",
            "Export started for year 2012\n",
            "Export started for year 2013\n",
            "Export started for year 2014\n",
            "Export started for year 2015\n",
            "Export started for year 2016\n",
            "Export started for year 2017\n",
            "Export started for year 2018\n",
            "Export started for year 2019\n",
            "Export started for year 2020\n",
            "Export started for year 2021\n",
            "Export started for year 2022\n",
            "Export started for year 2023\n"
          ]
        }
      ]
    }
  ]
}